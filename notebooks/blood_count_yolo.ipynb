{
  "nbformat": 4,
  "nbformat_minor": 0,
  "metadata": {
    "colab": {
      "provenance": [],
      "gpuType": "T4"
    },
    "kernelspec": {
      "name": "python3",
      "display_name": "Python 3"
    },
    "language_info": {
      "name": "python"
    },
    "accelerator": "GPU"
  },
  "cells": [
    {
      "cell_type": "code",
      "source": [
        "!pip install ultralytics"
      ],
      "metadata": {
        "id": "74jejmOll9P4"
      },
      "execution_count": null,
      "outputs": []
    },
    {
      "cell_type": "code",
      "execution_count": null,
      "metadata": {
        "id": "KF93-I5Gl36l"
      },
      "outputs": [],
      "source": [
        "from ultralytics import YOLO"
      ]
    },
    {
      "cell_type": "code",
      "source": [
        "from google.colab import drive\n",
        "drive.mount('/content/gdrive')"
      ],
      "metadata": {
        "id": "wLZKMsazmiww"
      },
      "execution_count": null,
      "outputs": []
    },
    {
      "cell_type": "code",
      "source": [
        "yolo = YOLO(\"yolov8n.pt\")\n",
        "yolo.train(data=\"/content/gdrive/MyDrive/Complete-Blood-Cell-Count-Dataset-Formats/yolo.yaml\", epochs=10)"
      ],
      "metadata": {
        "id": "AOIZ5zETmGvI"
      },
      "execution_count": null,
      "outputs": []
    },
    {
      "cell_type": "code",
      "source": [
        "results = yolo.val()\n",
        "print(results)"
      ],
      "metadata": {
        "id": "BFaxYNi0FH_5"
      },
      "execution_count": null,
      "outputs": []
    }
  ]
}
